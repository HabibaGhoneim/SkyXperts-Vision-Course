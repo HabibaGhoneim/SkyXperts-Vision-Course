{
 "cells": [
  {
   "cell_type": "code",
   "execution_count": 3,
   "id": "4183dc89",
   "metadata": {},
   "outputs": [],
   "source": [
    "import cv2 as cv\n",
    "path = './images/'"
   ]
  },
  {
   "cell_type": "code",
   "execution_count": 4,
   "id": "96620aed",
   "metadata": {},
   "outputs": [
    {
     "data": {
      "text/plain": [
       "'4.12.0'"
      ]
     },
     "execution_count": 4,
     "metadata": {},
     "output_type": "execute_result"
    }
   ],
   "source": [
    "cv.__version__"
   ]
  },
  {
   "cell_type": "code",
   "execution_count": 5,
   "id": "8a5014f1",
   "metadata": {},
   "outputs": [
    {
     "data": {
      "text/plain": [
       "'./images/'"
      ]
     },
     "execution_count": 5,
     "metadata": {},
     "output_type": "execute_result"
    }
   ],
   "source": [
    "path"
   ]
  },
  {
   "cell_type": "code",
   "execution_count": 6,
   "id": "ef4e2beb",
   "metadata": {},
   "outputs": [],
   "source": [
    "img = cv.imread(path+'dog.jpg')"
   ]
  },
  {
   "cell_type": "code",
   "execution_count": 7,
   "id": "0d212e11",
   "metadata": {},
   "outputs": [
    {
     "name": "stdout",
     "output_type": "stream",
     "text": [
      "<class 'numpy.ndarray'>\n"
     ]
    }
   ],
   "source": [
    "print(type(img))"
   ]
  },
  {
   "cell_type": "code",
   "execution_count": 8,
   "id": "b95da620",
   "metadata": {},
   "outputs": [
    {
     "data": {
      "text/plain": [
       "array([[[ 89,  89,  89],\n",
       "        [ 88,  88,  88],\n",
       "        [ 88,  88,  88],\n",
       "        ...,\n",
       "        [ 61,  61,  61],\n",
       "        [ 61,  61,  61],\n",
       "        [ 60,  60,  60]],\n",
       "\n",
       "       [[ 89,  89,  89],\n",
       "        [ 89,  89,  89],\n",
       "        [ 88,  88,  88],\n",
       "        ...,\n",
       "        [ 61,  61,  61],\n",
       "        [ 61,  61,  61],\n",
       "        [ 60,  60,  60]],\n",
       "\n",
       "       [[ 90,  90,  90],\n",
       "        [ 89,  89,  89],\n",
       "        [ 89,  89,  89],\n",
       "        ...,\n",
       "        [ 61,  61,  61],\n",
       "        [ 61,  61,  61],\n",
       "        [ 61,  61,  61]],\n",
       "\n",
       "       ...,\n",
       "\n",
       "       [[144, 144, 144],\n",
       "        [144, 144, 144],\n",
       "        [145, 145, 145],\n",
       "        ...,\n",
       "        [103, 103, 103],\n",
       "        [103, 103, 103],\n",
       "        [102, 102, 102]],\n",
       "\n",
       "       [[144, 144, 144],\n",
       "        [144, 144, 144],\n",
       "        [147, 147, 147],\n",
       "        ...,\n",
       "        [103, 103, 103],\n",
       "        [103, 103, 103],\n",
       "        [102, 102, 102]],\n",
       "\n",
       "       [[144, 144, 144],\n",
       "        [145, 145, 145],\n",
       "        [149, 149, 149],\n",
       "        ...,\n",
       "        [103, 103, 103],\n",
       "        [103, 103, 103],\n",
       "        [102, 102, 102]]], shape=(300, 332, 3), dtype=uint8)"
      ]
     },
     "execution_count": 8,
     "metadata": {},
     "output_type": "execute_result"
    }
   ],
   "source": [
    "img"
   ]
  },
  {
   "cell_type": "code",
   "execution_count": 9,
   "id": "c983ab62",
   "metadata": {},
   "outputs": [],
   "source": [
    "assert img is not None , \"can't read image\" #condition if image is empty display error msg "
   ]
  },
  {
   "cell_type": "code",
   "execution_count": 10,
   "id": "f2bd9ae5",
   "metadata": {},
   "outputs": [],
   "source": [
    "cv.imshow(\"Dog\", img)\n",
    "k = cv.waitKey(0)\n",
    "cv.destroyAllWindows()"
   ]
  },
  {
   "cell_type": "code",
   "execution_count": null,
   "id": "667802f5",
   "metadata": {},
   "outputs": [],
   "source": [
    "# to scale down <=100\n",
    "#>100 to scale up\n",
    "# height = percent*h /100 & width = percent * w / 100\n",
    "Scale_percent= 60\n",
    "\n",
    "h,w , _ = img.shape\n",
    "h = int(Scale_percent *h/100)\n",
    "w = int(Scale_percent *w/100)\n",
    "dim= (h,w)\n",
    "\n",
    "down_img = cv.resize(img, dim, interpolation = cv.INTER_AREA)\n",
    "\n",
    "\n"
   ]
  },
  {
   "cell_type": "code",
   "execution_count": 12,
   "id": "f3bf9e0a",
   "metadata": {},
   "outputs": [
    {
     "name": "stdout",
     "output_type": "stream",
     "text": [
      "(199, 180, 3)\n",
      "(300, 332, 3)\n"
     ]
    }
   ],
   "source": [
    "print(down_img.shape)\n",
    "print(img.shape)"
   ]
  },
  {
   "cell_type": "code",
   "execution_count": 13,
   "id": "d30a67ef",
   "metadata": {},
   "outputs": [],
   "source": [
    "cv.imshow(\"Original\", img)\n",
    "cv.waitKey(0)\n",
    "cv.imshow(\"Down scale\", down_img)\n",
    "cv.waitKey(0)\n",
    "cv.destroyAllWindows()"
   ]
  },
  {
   "cell_type": "code",
   "execution_count": null,
   "id": "838ea201",
   "metadata": {},
   "outputs": [],
   "source": [
    "#resize only width or only h \n",
    "h,w , _ = img.shape\n",
    "h = h\n",
    "w = 100\n",
    "dim = (h,w)\n",
    "\n",
    "Width_img = cv.resize(img, dim , interpolation = cv.INTER_AREA)"
   ]
  },
  {
   "cell_type": "code",
   "execution_count": 17,
   "id": "2232acd1",
   "metadata": {},
   "outputs": [],
   "source": [
    "cv.imshow(\"Orignal\", img)\n",
    "cv.waitKey(0)\n",
    "cv.imshow(\"Width image \", Width_img)\n",
    "cv.waitKey(0)\n",
    "cv.destroyAllWindows()"
   ]
  },
  {
   "cell_type": "code",
   "execution_count": 19,
   "id": "3e0bb123",
   "metadata": {},
   "outputs": [],
   "source": [
    "#cropping\n",
    "Cropped_img = img [80:200 , 100:200]\n",
    "cv.imshow(\"Orignal\", img)\n",
    "cv.waitKey(0)\n",
    "cv.imshow(\"Cropped img \", Cropped_img)\n",
    "cv.waitKey(0)\n",
    "cv.destroyAllWindows()"
   ]
  },
  {
   "cell_type": "code",
   "execution_count": 21,
   "id": "eec31eb0",
   "metadata": {},
   "outputs": [],
   "source": [
    "#rotate\n",
    "height, width , _= img.shape\n",
    "center = (width/2, height/2)  "
   ]
  },
  {
   "cell_type": "code",
   "execution_count": 23,
   "id": "750dab12",
   "metadata": {},
   "outputs": [],
   "source": [
    "rotate_matrix = cv.getRotationMatrix2D(center=center, angle=45, scale=1)\n"
   ]
  },
  {
   "cell_type": "code",
   "execution_count": 24,
   "id": "7f322457",
   "metadata": {},
   "outputs": [
    {
     "data": {
      "text/plain": [
       "array([[  0.70710678,   0.70710678, -57.44574285],\n",
       "       [ -0.70710678,   0.70710678, 161.3137085 ]])"
      ]
     },
     "execution_count": 24,
     "metadata": {},
     "output_type": "execute_result"
    }
   ],
   "source": [
    "rotate_matrix"
   ]
  },
  {
   "cell_type": "code",
   "execution_count": null,
   "id": "6b695e38",
   "metadata": {},
   "outputs": [],
   "source": []
  }
 ],
 "metadata": {
  "kernelspec": {
   "display_name": "Python 3",
   "language": "python",
   "name": "python3"
  },
  "language_info": {
   "codemirror_mode": {
    "name": "ipython",
    "version": 3
   },
   "file_extension": ".py",
   "mimetype": "text/x-python",
   "name": "python",
   "nbconvert_exporter": "python",
   "pygments_lexer": "ipython3",
   "version": "3.13.2"
  }
 },
 "nbformat": 4,
 "nbformat_minor": 5
}
